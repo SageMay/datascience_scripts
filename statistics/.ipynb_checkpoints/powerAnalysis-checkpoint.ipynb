{
 "cells": [
  {
   "cell_type": "code",
   "execution_count": 2,
   "id": "1a3a4ce3-6a7c-4d97-bd31-4f3d21aba9e0",
   "metadata": {},
   "outputs": [
    {
     "name": "stdout",
     "output_type": "stream",
     "text": [
      "Effect size: 1.1668963053065435\n",
      "Sample size/Number needed in each group: 12.565\n"
     ]
    }
   ],
   "source": [
    "import numpy as np\n",
    "from math import sqrt \n",
    "from statsmodels.stats.power import TTestIndPower \n",
    "\n",
    "# Tutorial I found most helpful for power analysis: \n",
    "# https://www.geeksforgeeks.org/introduction-to-power-analysis-in-python/\n",
    "\n",
    "no_lig = np.array([16394000.0, 11548300.0, 16756800.0, 15643300.0]) # These were the values using the no ligand SASA based structure data # ([16829900.0, 10818400.0, 5520290.0])\n",
    "lig = np.array([54221300.0, 5043110.0, 34082400.0, 25628200.0]) # These were the values using the no ligand SASA based structure data # ([23684500.0, 10786000.0, 15460900.0])\n",
    "\n",
    "#calculation of effect size \n",
    "# size of samples in pilot study \n",
    "n1, n2 = len(lig), len(no_lig)\n",
    "  \n",
    "# variance of samples in pilot study \n",
    "s1, s2 = np.std(lig)**2, np.std(no_lig)**2 \n",
    "  \n",
    "# calculate the pooled standard deviation  \n",
    "# (Cohen's d) \n",
    "s = sqrt(((n1 - 1) * s1 + (n2 - 1) * s2) / (n1 + n2 - 2)) \n",
    "  \n",
    "# means of the samples \n",
    "u1, u2 = np.mean(lig), np.mean(no_lig)\n",
    "  \n",
    "# calculate the effect size \n",
    "d = (u1 - u2) / s \n",
    "print(f'Effect size: {d}') \n",
    "  \n",
    "# factors for power analysis \n",
    "alpha = 0.05\n",
    "power = 0.8\n",
    "  \n",
    "# perform power analysis to find sample size  \n",
    "# for given effect \n",
    "obj = TTestIndPower() \n",
    "n = obj.solve_power(effect_size=d, alpha=alpha, power=power, \n",
    "                    ratio=1, alternative='two-sided') \n",
    "\n",
    "print('Sample size/Number needed in each group: {:.3f}'.format(n))"
   ]
  },
  {
   "cell_type": "code",
   "execution_count": null,
   "id": "caea4b44-51d7-4e6a-87ff-d3eccedc873e",
   "metadata": {},
   "outputs": [],
   "source": []
  },
  {
   "cell_type": "code",
   "execution_count": null,
   "id": "e1e24314-6f2d-4142-becb-71ddca3cb780",
   "metadata": {},
   "outputs": [],
   "source": []
  }
 ],
 "metadata": {
  "kernelspec": {
   "display_name": "Python 3 (ipykernel)",
   "language": "python",
   "name": "python3"
  },
  "language_info": {
   "codemirror_mode": {
    "name": "ipython",
    "version": 3
   },
   "file_extension": ".py",
   "mimetype": "text/x-python",
   "name": "python",
   "nbconvert_exporter": "python",
   "pygments_lexer": "ipython3",
   "version": "3.12.4"
  }
 },
 "nbformat": 4,
 "nbformat_minor": 5
}
