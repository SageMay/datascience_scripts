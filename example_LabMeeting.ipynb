{
 "cells": [
  {
   "cell_type": "markdown",
   "id": "b9c7b6db-191b-4541-a48f-42a9d9f67f5f",
   "metadata": {},
   "source": [
    "# This notebook is for an example of how to use GitHub during Lab meeting. \n"
   ]
  },
  {
   "cell_type": "code",
   "execution_count": null,
   "id": "977008d5-f8a0-420b-8c57-2a22b47005ea",
   "metadata": {},
   "outputs": [],
   "source": []
  }
 ],
 "metadata": {
  "kernelspec": {
   "display_name": "Python 3 (ipykernel)",
   "language": "python",
   "name": "python3"
  },
  "language_info": {
   "codemirror_mode": {
    "name": "ipython",
    "version": 3
   },
   "file_extension": ".py",
   "mimetype": "text/x-python",
   "name": "python",
   "nbconvert_exporter": "python",
   "pygments_lexer": "ipython3",
   "version": "3.12.4"
  }
 },
 "nbformat": 4,
 "nbformat_minor": 5
}
